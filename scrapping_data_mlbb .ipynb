{
 "cells": [
  {
   "cell_type": "code",
   "execution_count": 4,
   "metadata": {},
   "outputs": [],
   "source": [
    "from selenium import webdriver\n",
    "from selenium.webdriver.chrome.service import Service\n",
    "from selenium.webdriver.common.by import By\n",
    "from selenium.webdriver.support.ui import WebDriverWait\n",
    "from selenium.webdriver.support import expected_conditions as EC\n",
    "from selenium.webdriver.support.ui import WebDriverWait\n",
    "import csv"
   ]
  },
  {
   "cell_type": "code",
   "execution_count": 18,
   "metadata": {},
   "outputs": [],
   "source": [
    "lanes = [\n",
    "    [\"gold lane\" ,\"https://akmweb.youngjoygame.com/web/svnres/img/mlbb/homepage/100_b4302450af5d1f55adf07399b4d3ed95.png\"],\n",
    "    [\"jungler\", \"https://akmweb.youngjoygame.com/web/svnres/img/mlbb/homepage/100_741d46ff696f02305139a2d817e67e75.png\"],\n",
    "    [\"roam\", \"https://akmweb.youngjoygame.com/web/svnres/img/mlbb/homepage/100_abb6e4a5579bbffa22c9184584e5f155.png\"],\n",
    "    [\"mid lane\", \"https://akmweb.youngjoygame.com/web/svnres/img/mlbb/homepage/100_1b414d1631fc57199315b998064c6722.png\"],\n",
    "    [\"exp lane\",\"https://akmweb.youngjoygame.com/web/svnres/img/mlbb/homepage/100_9a93311ae387f9ffe5a7efa5e341eb9e.png\"]\n",
    "]"
   ]
  },
  {
   "cell_type": "code",
   "execution_count": 31,
   "metadata": {},
   "outputs": [
    {
     "name": "stdout",
     "output_type": "stream",
     "text": [
      "Edith https://akmweb.youngjoygame.com/web/svnres/img/mlbb/homepage/100_daab57918de01a6d5bb2ed6f45808a7e.png 55.16% 0.58% 0.38% ['exp lane', 'roam'] ['Tank', 'Marksman']\n"
     ]
    }
   ],
   "source": [
    "s = Service(r\"I:\\Downloads\\chromedriver-win64\\chromedriver.exe\")\n",
    "\n",
    "data = []\n",
    "for i in range(1, 126):\n",
    "    driver = webdriver.Chrome(service=s)\n",
    "    \n",
    "    try:\n",
    "        driver.get(f\"https://m.mobilelegends.com/hero/detail?channelid=2727282&heroid={i}\")\n",
    "\n",
    "        div_element = WebDriverWait(driver, 10).until(\n",
    "            EC.presence_of_element_located((By.CSS_SELECTOR, 'div.mt-2680147.mt-tabs'))\n",
    "        )\n",
    "        \n",
    "        child_divs = div_element.find_elements(By.CSS_SELECTOR, 'div')\n",
    "        \n",
    "        driver.execute_script(\"arguments[0].classList.add('active', 'checked');\", child_divs[2])\n",
    "        \n",
    "        child_divs[2].click()\n",
    "        \n",
    "        span_hero_element = WebDriverWait(driver, 10).until(\n",
    "            EC.presence_of_element_located((By.CSS_SELECTOR, 'div.mt-2680124.mt-text span'))\n",
    "        )\n",
    "        \n",
    "        img_element = WebDriverWait(driver, 10).until(\n",
    "            EC.presence_of_element_located((By.CSS_SELECTOR, 'div.mt-2680184.mt-image img'))\n",
    "        )\n",
    "        \n",
    "        span_winrate_element = WebDriverWait(driver, 10).until(\n",
    "            EC.presence_of_element_located((By.CSS_SELECTOR, 'div.mt-2680129.mt-text span'))\n",
    "        )\n",
    "        span_pickrate_element = WebDriverWait(driver, 10).until(\n",
    "            EC.presence_of_element_located((By.CSS_SELECTOR, 'div.mt-2680133.mt-text span'))\n",
    "        )\n",
    "        span_banrate_element = WebDriverWait(driver, 10).until(\n",
    "            EC.presence_of_element_located((By.CSS_SELECTOR, 'div.mt-2680137.mt-text span'))\n",
    "        )\n",
    "        div_lane_element = WebDriverWait(driver, 10).until(\n",
    "            EC.presence_of_element_located((By.CSS_SELECTOR, 'div.mt-2683985.mt-empty'))\n",
    "        )\n",
    "        best_lane = []\n",
    "        child_divs_lane = div_lane_element.find_elements(By.CSS_SELECTOR, 'div')\n",
    "        for child in child_divs_lane:\n",
    "            grand_child_lane = child.find_elements(By.CSS_SELECTOR, 'div')\n",
    "            for grand_child in grand_child_lane:\n",
    "                img_elements = grand_child.find_elements(By.CSS_SELECTOR, 'img')\n",
    "                img_src = img_elements[0].get_attribute('src')\n",
    "                for lane in lanes:\n",
    "                    if lane[1] == img_src:\n",
    "                        best_lane.append(lane[0])\n",
    "\n",
    "        role = []\n",
    "        div_role_element = WebDriverWait(driver, 10).until(\n",
    "            EC.presence_of_element_located((By.CSS_SELECTOR, 'div.mt-2681124.mt-list'))\n",
    "        )\n",
    "        child_divs_role = div_role_element.find_elements(By.CSS_SELECTOR, 'div')\n",
    "        for child in child_divs_role:\n",
    "            span_elements = child.find_elements(By.CSS_SELECTOR, 'span')\n",
    "            for span in span_elements:\n",
    "                if span.text != '':\n",
    "                    role.append(span.text)\n",
    "                    \n",
    "            \n",
    "        \n",
    "        \n",
    "        hero_text = span_hero_element.text\n",
    "        img_src = img_element.get_attribute('src')\n",
    "        winrate = span_winrate_element.text\n",
    "        pickrate = span_pickrate_element.text\n",
    "        banrate = span_banrate_element.text\n",
    "        print(hero_text, img_src, winrate, pickrate, banrate , best_lane, role)\n",
    "        arr = [\n",
    "            hero_text,\n",
    "            winrate,\n",
    "            pickrate,\n",
    "            banrate,\n",
    "            best_lane,\n",
    "            role,\n",
    "            img_src,\n",
    "        ]\n",
    "        data.append(arr)\n",
    "        \n",
    "    except Exception as e:\n",
    "        print(\"Terjadi kesalahan:\", e)\n",
    "    \n",
    "    finally:\n",
    "        driver.quit()"
   ]
  },
  {
   "cell_type": "code",
   "execution_count": 22,
   "metadata": {},
   "outputs": [
    {
     "name": "stdout",
     "output_type": "stream",
     "text": [
      "Data telah disimpan ke hero_data.csv\n"
     ]
    }
   ],
   "source": [
    "with open('hero_data.csv', 'w', newline='', encoding='utf-8') as file:\n",
    "    writer = csv.writer(file)\n",
    "    writer.writerow(['Hero', 'Win Rate', 'Pick Rate', 'Ban Rate', 'Image', 'Best Lane', 'Role'])\n",
    "    writer.writerows(data)\n",
    "\n",
    "print(\"Data telah disimpan ke hero_data.csv\")"
   ]
  }
 ],
 "metadata": {
  "kernelspec": {
   "display_name": "Python 3",
   "language": "python",
   "name": "python3"
  },
  "language_info": {
   "codemirror_mode": {
    "name": "ipython",
    "version": 3
   },
   "file_extension": ".py",
   "mimetype": "text/x-python",
   "name": "python",
   "nbconvert_exporter": "python",
   "pygments_lexer": "ipython3",
   "version": "3.10.6"
  }
 },
 "nbformat": 4,
 "nbformat_minor": 2
}
